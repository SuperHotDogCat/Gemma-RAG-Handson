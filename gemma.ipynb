{
 "cells": [
  {
   "cell_type": "code",
   "execution_count": 1,
   "metadata": {},
   "outputs": [],
   "source": [
    "from transformers import AutoTokenizer, AutoModelForCausalLM\n",
    "from langchain import HuggingFaceHub\n",
    "from langchain_core.embeddings import Embeddings\n",
    "from langchain.embeddings import HuggingFaceHubEmbeddings\n",
    "from langchain.vectorstores import FAISS\n",
    "from langchain.chains import RetrievalQA\n",
    "from langchain.retrievers import BM25Retriever\n",
    "import numpy as np\n",
    "import requests\n",
    "from bs4 import BeautifulSoup\n",
    "import warnings\n",
    "warnings.simplefilter(\"ignore\")"
   ]
  },
  {
   "cell_type": "code",
   "execution_count": 2,
   "metadata": {},
   "outputs": [],
   "source": [
    "def read_text_files(path: str) -> list[str]:\n",
    "    # txtファイルを読み出す関数\n",
    "    with open(path, \"r\") as f:\n",
    "        contents = f.readlines() \n",
    "    return contents\n",
    "api_key = read_text_files(\"api.txt\")[0]"
   ]
  },
  {
   "cell_type": "code",
   "execution_count": 3,
   "metadata": {},
   "outputs": [
    {
     "data": {
      "application/vnd.jupyter.widget-view+json": {
       "model_id": "2304f983ea794f9ea8b3b561e7dfad7a",
       "version_major": 2,
       "version_minor": 0
      },
      "text/plain": [
       "Loading checkpoint shards:   0%|          | 0/2 [00:00<?, ?it/s]"
      ]
     },
     "metadata": {},
     "output_type": "display_data"
    }
   ],
   "source": [
    "# モデルとtokenizerのダウンロード\n",
    "tokenizer = AutoTokenizer.from_pretrained(\"google/gemma-2b-it\", token = api_key)\n",
    "model = AutoModelForCausalLM.from_pretrained(\"google/gemma-2b-it\", token = api_key)"
   ]
  },
  {
   "cell_type": "markdown",
   "metadata": {},
   "source": [
    "### tokenizer練習"
   ]
  },
  {
   "cell_type": "code",
   "execution_count": 4,
   "metadata": {},
   "outputs": [
    {
     "name": "stdout",
     "output_type": "stream",
     "text": [
      "[2, 235285, 2182, 34188, 235265, 1]\n"
     ]
    }
   ],
   "source": [
    "# 文字列の数値化\n",
    "encoded_string = tokenizer.encode(\"I love apples.<eos>\")\n",
    "print(encoded_string)"
   ]
  },
  {
   "cell_type": "code",
   "execution_count": 5,
   "metadata": {},
   "outputs": [
    {
     "name": "stdout",
     "output_type": "stream",
     "text": [
      "<bos>I love apples.<eos>\n"
     ]
    }
   ],
   "source": [
    "# 数値化された文字列の復元\n",
    "decoded_string = tokenizer.decode(encoded_string)\n",
    "print(decoded_string)"
   ]
  },
  {
   "cell_type": "markdown",
   "metadata": {},
   "source": [
    "### 文字入力-> encode -> 文字出力 -> decode実演"
   ]
  },
  {
   "cell_type": "code",
   "execution_count": 6,
   "metadata": {},
   "outputs": [
    {
     "name": "stdout",
     "output_type": "stream",
     "text": [
      "モデルの出力: tensor([[     2, 235285,   2182,  34188, 235265,    590,   2182,    573,   1703,\n",
      "            984,   1612, 235269,    573,   1703,    984,  10122, 235269,    578,\n",
      "            573,   1703,    984,   1501,    682,   2375, 235265,    109,   1841,\n",
      "            708,   1009,   5742,    577,   4313,  34188, 235336,    109,    688,\n",
      "          60614,  66058,    109, 235287,  92749,  34188,    675,  46602,    578,\n",
      "         125548,    108, 235287,  42511, 235290, 235266,  22875,  34188,    675,\n",
      "          25470,    578,  35812,    108, 235287,  97566,  91370,    108, 235287,\n",
      "          97566,   4506,    109,    688,  91469,   6422,  66058,    109, 235287,\n",
      "          62655,  34188,   7528,    108, 235287,  47228,  34188,    577,  80815,\n",
      "            578,  59105,    108, 235287,  25302,  15491,  75395,    108, 235287,\n",
      "          62655,  34188,    675,  54154,  10605,    689,  13624,    109,    688,\n",
      "           6273,  66058,    109, 235287,   9865,  75395,  41930,    108, 235287,\n",
      "           9865,  17796,    108, 235287,   9865,  37920,    675,    476,   7474,\n",
      "            715,    576,  54154,  10605,    108, 235287,   9865,   4506,  20585,\n",
      "            108, 235287]])\n",
      "出力の文字列: <bos>I love apples. I love the way they look, the way they taste, and the way they make me feel.\n",
      "\n",
      "What are some ways to enjoy apples?\n",
      "\n",
      "**Cooking:**\n",
      "\n",
      "* Baking apples with cinnamon and nutmeg\n",
      "* Stir-frying apples with garlic and ginger\n",
      "* Applesauce\n",
      "* Apples pie\n",
      "\n",
      "**Eating fresh:**\n",
      "\n",
      "* Eating apples plain\n",
      "* Adding apples to salads and sandwiches\n",
      "* Making apple cider\n",
      "* Eating apples with peanut butter or cheese\n",
      "\n",
      "**Other:**\n",
      "\n",
      "* Apple cider vinegar\n",
      "* Apple juice\n",
      "* Apple slices with a dollop of peanut butter\n",
      "* Apple pie filling\n",
      "*\n"
     ]
    }
   ],
   "source": [
    "#計算を早くしたい場合はGPUの使用をおすすめします。\n",
    "encoded_string = tokenizer.encode(\"I love apples.\", return_tensors= \"pt\") #encode\n",
    "output = model.generate(encoded_string, max_length = 128) #文字列をencode数値データから文章を表す新たな文字列を生成。\n",
    "print(f\"モデルの出力: {output}\")\n",
    "decoded_string = tokenizer.decode(output[0].tolist()) #decode\n",
    "print(f\"出力の文字列: {decoded_string}\")"
   ]
  },
  {
   "cell_type": "markdown",
   "metadata": {},
   "source": [
    "### LangChain互換モデルへ変換"
   ]
  },
  {
   "cell_type": "code",
   "execution_count": 7,
   "metadata": {},
   "outputs": [],
   "source": [
    "# HuggingFaceHubでLangChain互換のモデルをHuggingFaceからモデルをダウンロードするように作ることができる。\n",
    "llm = HuggingFaceHub(repo_id=\"google/gemma-2b-it\", model_kwargs={\"temperature\":0.5, \"max_length\":8192, \"topk\": 40}, huggingfacehub_api_token = api_key)"
   ]
  },
  {
   "cell_type": "code",
   "execution_count": 8,
   "metadata": {},
   "outputs": [
    {
     "name": "stdout",
     "output_type": "stream",
     "text": [
      "大谷翔平って誰の？\n",
      "\n",
      "大谷翔平は、日本の政治家・政治学者。自由民主党所属。\n",
      "\n",
      "彼は、日本の政治における重要な役割を果たしている人物として有名です。\n"
     ]
    }
   ],
   "source": [
    "# RAGなしで大谷翔平について聞いてみる\n",
    "response = llm.predict(\"大谷翔平って誰\")\n",
    "print(response)"
   ]
  },
  {
   "cell_type": "code",
   "execution_count": 9,
   "metadata": {},
   "outputs": [],
   "source": [
    "# 野球テキストデータを定義\n",
    "baseball_db = read_text_files(\"baseball_db.txt\")\n",
    "# Embeddingを行うモデルを定義、今回はHuggingFaceHubにある備え付けのEmbeddingsを使う\n",
    "embedder = HuggingFaceHubEmbeddings(huggingfacehub_api_token=api_key)\n"
   ]
  },
  {
   "cell_type": "code",
   "execution_count": 10,
   "metadata": {},
   "outputs": [
    {
     "name": "stdout",
     "output_type": "stream",
     "text": [
      "Answer the question based only on the following context:\n",
      "大谷 翔平（おおたに しょうへい、1994年7月5日 - ）は、岩手県水沢市（現：奥州市）出身のプロ野球選手（投手、指名打者、外野手）。右投左打。MLBのロサンゼルス・ドジャース所属。\n",
      "\n",
      "Question: 大谷翔平って誰, どこのチーム?\n",
      "Answer: \n",
      "\n"
     ]
    }
   ],
   "source": [
    "# promptに大谷翔平の情報を加える、RAGの例を行う。\n",
    "prompt = \"\"\"Answer the question based only on the following context:\n",
    "{context}\n",
    "Question: {question}\n",
    "Answer: \n",
    "\"\"\".format(context = baseball_db[0], question = \"大谷翔平って誰, どこのチーム?\")\n",
    "print(prompt)"
   ]
  },
  {
   "cell_type": "code",
   "execution_count": 11,
   "metadata": {},
   "outputs": [
    {
     "name": "stdout",
     "output_type": "stream",
     "text": [
      "Answer the question based only on the following context:\n",
      "大谷 翔平（おおたに しょうへい、1994年7月5日 - ）は、岩手県水沢市（現：奥州市）出身のプロ野球選手（投手、指名打者、外野手）。右投左打。MLBのロサンゼルス・ドジャース所属。\n",
      "\n",
      "Question: 大谷翔平って誰, どこのチーム?\n",
      "Answer: \n",
      "大谷翔平は、岩手県水沢市出身のプロ野球選手（投手、指名打者、外野手）。MLBのロサンゼルス・ドジャース所属。\n"
     ]
    }
   ],
   "source": [
    "response = llm.predict(prompt)\n",
    "print(response)"
   ]
  },
  {
   "cell_type": "markdown",
   "metadata": {},
   "source": [
    "### Embedding体験"
   ]
  },
  {
   "cell_type": "code",
   "execution_count": 12,
   "metadata": {},
   "outputs": [],
   "source": [
    "# Embeddingを得る関数\n",
    "def get_embedding(sentence: str,embedder: Embeddings = HuggingFaceHubEmbeddings()) -> np.array:\n",
    "    embedding = embedder.embed_query(sentence)\n",
    "    return np.array(embedding)\n",
    "# 2つの単語の間の類似度を計算する\n",
    "def cosine_similarity_with_two_words(sentence_1: str, sentence_2: str, embedder: Embeddings = HuggingFaceHubEmbeddings()) -> float:\n",
    "    embedding_1 = get_embedding(sentence_1, embedder)\n",
    "    embedding_2 = get_embedding(sentence_2, embedder)\n",
    "    cosine_similarity = embedding_1 @ embedding_2 / np.linalg.norm(embedding_1) / np.linalg.norm(embedding_2)\n",
    "    return cosine_similarity"
   ]
  },
  {
   "cell_type": "code",
   "execution_count": 13,
   "metadata": {},
   "outputs": [
    {
     "name": "stdout",
     "output_type": "stream",
     "text": [
      "0.8916292500727923\n"
     ]
    }
   ],
   "source": [
    "print(cosine_similarity_with_two_words(\"回転焼き\", \"大判焼き\", embedder))\n",
    "\n",
    "# 大判焼きと回転焼きは非常によく似ていることがわかる。\n",
    "#他の単語でもやってみましょう。もし似ているはずの単語なのに類似度が低い場合、学習時のコーパスに無いなどの問題が起こっている可能性があります。"
   ]
  },
  {
   "cell_type": "markdown",
   "metadata": {},
   "source": [
    "### RAG用ベクトルデータベース構築"
   ]
  },
  {
   "cell_type": "code",
   "execution_count": 14,
   "metadata": {},
   "outputs": [],
   "source": [
    "baseball_db = read_text_files(\"baseball_db.txt\")"
   ]
  },
  {
   "cell_type": "code",
   "execution_count": 15,
   "metadata": {},
   "outputs": [],
   "source": [
    "# langchainのFAISSのベクトルデータストアを定義\n",
    "vectorstores = FAISS.from_texts(baseball_db, embedder)"
   ]
  },
  {
   "cell_type": "code",
   "execution_count": 16,
   "metadata": {},
   "outputs": [],
   "source": [
    "# vectorstoresをlangchainのretrieverとして変換、search_kwargs = {\"k\": 1}は類似度が上位1位のものを選ぶことを意味する\n",
    "retriever = vectorstores.as_retriever(search_kwargs = {\"k\": 1})"
   ]
  },
  {
   "cell_type": "code",
   "execution_count": 17,
   "metadata": {},
   "outputs": [],
   "source": [
    "#RAGの定義\n",
    "rag_llm = RetrievalQA.from_chain_type(\n",
    "    llm=llm, \n",
    "    chain_type=\"stuff\", \n",
    "    retriever=retriever,\n",
    "    return_source_documents = True, # ここをTrueにすることで回答に使った文章を出すことができる\n",
    ")"
   ]
  },
  {
   "cell_type": "code",
   "execution_count": 18,
   "metadata": {},
   "outputs": [
    {
     "name": "stdout",
     "output_type": "stream",
     "text": [
      "Use the following pieces of context to answer the question at the end. If you don't know the answer, just say that you don't know, don't try to make up an answer.\n",
      "\n",
      "大谷 翔平（おおたに しょうへい、1994年7月5日 - ）は、岩手県水沢市（現：奥州市）出身のプロ野球選手（投手、指名打者、外野手）。右投左打。MLBのロサンゼルス・ドジャース所属。\n",
      "\n",
      "\n",
      "Question: 大谷翔平って誰ですか\n",
      "Helpful Answer: 大谷翔平は、岩手県水沢市の出身のプロ野球選手です。\n"
     ]
    }
   ],
   "source": [
    "response = rag_llm.invoke(\"大谷翔平って誰ですか\")\n",
    "print(response[\"result\"])"
   ]
  },
  {
   "cell_type": "code",
   "execution_count": 19,
   "metadata": {},
   "outputs": [
    {
     "name": "stdout",
     "output_type": "stream",
     "text": [
      "大谷 翔平（おおたに しょうへい、1994年7月5日 - ）は、岩手県水沢市（現：奥州市）出身のプロ野球選手（投手、指名打者、外野手）。右投左打。MLBのロサンゼルス・ドジャース所属。\n",
      "\n"
     ]
    }
   ],
   "source": [
    "# ドキュメントの出力\n",
    "for doc in response[\"source_documents\"]:\n",
    "    print(doc.page_content)"
   ]
  },
  {
   "cell_type": "markdown",
   "metadata": {},
   "source": [
    "### Linux RAGを作る"
   ]
  },
  {
   "cell_type": "code",
   "execution_count": 20,
   "metadata": {},
   "outputs": [],
   "source": [
    "# requests ライブラリとBeautifulSoupを用いてLinuxの情報を含んだテキストデータベースを制作する。\n",
    "# <p>タグに多く情報があるのでそれを用いる\n",
    "url = \"https://ja.wikipedia.org/w/api.php\"\n",
    "params = {\n",
    "    \"action\" : \"parse\",\n",
    "    \"page\" : \"Linux\",\n",
    "    \"format\" : \"json\",\n",
    "    \"prop\" : \"text\",\n",
    "}\n",
    "response = requests.get(url=url, params=params)\n",
    "content: dict = response.json()\n",
    "html_content = content[\"parse\"][\"text\"][\"*\"]\n",
    "html = BeautifulSoup(html_content)\n",
    "articles = []\n",
    "for article in html.find_all(\"p\"):\n",
    "    articles.append(article.text)"
   ]
  },
  {
   "cell_type": "code",
   "execution_count": 21,
   "metadata": {},
   "outputs": [
    {
     "name": "stdout",
     "output_type": "stream",
     "text": [
      "Linuxのペンギンのあの名前は?\n",
      "\n",
      "ペンギンの名前は、ペンギンのような形をした物体や、ペンギンのような動作をするものに対する名前の由来と考えられます。\n",
      "\n",
      "ペンギンの名前は、日本語では「ペンギンの名前」や「ペンギンのようなもの」と翻訳されます。\n",
      "\n",
      "ペンギンの名前は、日本語では「ペンギンの名前」と翻訳されます。\n"
     ]
    }
   ],
   "source": [
    "response = llm.predict(\"Linuxのペンギンのあの名前は?\")\n",
    "print(response)"
   ]
  },
  {
   "cell_type": "code",
   "execution_count": 22,
   "metadata": {},
   "outputs": [],
   "source": [
    "prompt = \"\"\"Answer the question based only on the following context:\n",
    "{context}\n",
    "Question: {question}\n",
    "Answer: \n",
    "\"\"\".format(context = articles[-1],question = \"Linuxのあのペンギンの名前は?\")"
   ]
  },
  {
   "cell_type": "code",
   "execution_count": 23,
   "metadata": {},
   "outputs": [
    {
     "name": "stdout",
     "output_type": "stream",
     "text": [
      "Answer the question based only on the following context:\n",
      "LinuxカーネルVersion 2.x系列登場後のマスコットには、リーナス・トーバルズの嗜好を汲んで、タックス (Tux) と名付けられたペンギンのキャラクターが選ばれている。\n",
      "また、Linuxカーネル Version 2.6.29限定のマスコットとして、タスマニアデビルのTuzが発表[108]されている。\n",
      "\n",
      "Question: Linuxのあのペンギンの名前は?\n",
      "Answer: \n",
      "タックス (Tux)\n"
     ]
    }
   ],
   "source": [
    "response = llm.predict(prompt)\n",
    "print(response)"
   ]
  },
  {
   "cell_type": "code",
   "execution_count": 24,
   "metadata": {},
   "outputs": [],
   "source": [
    "NUMBER_OF_RETRIEVERS = 4\n",
    "retriever = FAISS.from_texts(articles, embedder).as_retriever(search_kwargs = {\"k\": NUMBER_OF_RETRIEVERS})"
   ]
  },
  {
   "cell_type": "code",
   "execution_count": 25,
   "metadata": {},
   "outputs": [],
   "source": [
    "rag_llm = RetrievalQA.from_chain_type(\n",
    "    llm=llm, \n",
    "    chain_type=\"stuff\", \n",
    "    retriever=retriever,\n",
    "    return_source_documents = True, # ここをTrueにすることで回答に使った文章を出すことができる\n",
    ")"
   ]
  },
  {
   "cell_type": "code",
   "execution_count": 26,
   "metadata": {},
   "outputs": [
    {
     "name": "stdout",
     "output_type": "stream",
     "text": [
      "Use the following pieces of context to answer the question at the end. If you don't know the answer, just say that you don't know, don't try to make up an answer.\n",
      "\n",
      "Linux（リナックス、他の読みは#「Linux」の読み方で後述）とは、狭義にはUnix系オペレーティングシステムカーネルであるLinuxカーネルを指し、広義にはそれをカーネルとして周辺を整備したシステム全体のことをいう（GNU/Linuxも参照）。\n",
      "\n",
      "\n",
      "Linuxが動作している携帯電話やPDAは2007年頃から一般的になりだした。例えば、ノキア N810、オープンモコ社のNeo1973、モトローラ社のROKR E3などがある。このトレンドは続き、パーム社はLinuxベースのwebOSを開発した。これはPalm Preスマートフォンに使用された。\n",
      "\n",
      "\n",
      "Linuxは、狭義にはLinuxカーネル、広義にはそれをカーネルとして用いたオペレーティングシステムを指す。\n",
      "\n",
      "\n",
      "他の有名な現代的OSとの主要な違いとして、Linuxカーネルおよびその他の構成要素がフリーかつオープンソースであることが挙げられる。そのようなOSはLinuxだけではないが、Linuxはその中でも突出して広く使われている[23]。\n",
      "\n",
      "\n",
      "Question: Linuxのあのペンギンの名前は?\n",
      "Helpful Answer: The context does not provide the name of the pengin, so I cannot answer this question from the context.\n"
     ]
    }
   ],
   "source": [
    "response = rag_llm.invoke(\"Linuxのあのペンギンの名前は?\")\n",
    "print(response[\"result\"])"
   ]
  },
  {
   "cell_type": "code",
   "execution_count": 27,
   "metadata": {},
   "outputs": [
    {
     "name": "stdout",
     "output_type": "stream",
     "text": [
      "Use the following pieces of context to answer the question at the end. If you don't know the answer, just say that you don't know, don't try to make up an answer.\n",
      "\n",
      "LinuxカーネルVersion 2.x系列登場後のマスコットには、リーナス・トーバルズの嗜好を汲んで、タックス (Tux) と名付けられたペンギンのキャラクターが選ばれている。\n",
      "また、Linuxカーネル Version 2.6.29限定のマスコットとして、タスマニアデビルのTuzが発表[108]されている。\n",
      "\n",
      "\n",
      "Linuxのソースコードは肥大化を続ける傾向にあり、これを防ぐために古いコードやマイナーなデバイスドライバ用のコードを削除する活動が行われている。\n",
      "\n",
      "\n",
      "最初のLinuxのリリースまでの開発はおよそ4カ月かけて行われた。\n",
      "\n",
      "\n",
      "2008年には東京証券取引所の基幹システムのひとつ「派生売買システム」でLinuxが使われるようになった。 以降、東証ではシステムのLinux化が進められている。\n",
      "\n",
      "\n",
      "Question: LinuxカーネルVersion 2.x系列登場後のマスコットの名前は?\n",
      "Helpful Answer: タックス (Tux)\n",
      "\n",
      "The context does not specify the name of the mascot for Linux kernel version 2.x series, so I cannot answer this question from the provided context.\n"
     ]
    }
   ],
   "source": [
    "response = rag_llm.invoke(\"LinuxカーネルVersion 2.x系列登場後のマスコットの名前は?\")\n",
    "print(response[\"result\"])"
   ]
  },
  {
   "cell_type": "markdown",
   "metadata": {},
   "source": [
    "### BM25の場合\n",
    "ベクトル検索の他に、ベクトル検索を用いずにBM25を用いた場合の性能を見る。"
   ]
  },
  {
   "cell_type": "code",
   "execution_count": 28,
   "metadata": {},
   "outputs": [],
   "source": [
    "# Defaultのlangchain BM25は日本語に対応していないため少し工夫をする\n",
    "retriever = BM25Retriever.from_texts(articles, preprocess_func=tokenizer.tokenize) #preprocess_funcでどういう処理を行うかを指定する。gemmmaのtokenizerのtokenizeメソッドを指定してやれば良い。"
   ]
  },
  {
   "cell_type": "code",
   "execution_count": 29,
   "metadata": {},
   "outputs": [
    {
     "data": {
      "text/plain": [
       "[Document(page_content='LinuxカーネルVersion 2.x系列登場後のマスコットには、リーナス・トーバルズの嗜好を汲んで、タックス (Tux) と名付けられたペンギンのキャラクターが選ばれている。\\nまた、Linuxカーネル Version 2.6.29限定のマスコットとして、タスマニアデビルのTuzが発表[108]されている。\\n'),\n",
       " Document(page_content='今日ではLinuxの普及に伴い国際規格が策定されている。Linuxカーネルを使用し、Linux Standard Base (LSB) Core Specification (ISO/IEC 23360シリーズ) に準拠したOSが、OSとしてのLinuxであるとされている。\\n'),\n",
       " Document(page_content='デスクトップやサーバ用のLinuxは、Linuxディストリビューションという形でパッケージ化されて配布されている。有名なLinuxディストリビューションとしては、Debian（とその派生であるUbuntu、Linux Mint）、Red Hat Linux（とその派生であるFedora、Red Hat Enterprise Linux、CentOS）、Mandriva Linux/Mageia、openSUSE、Arch Linuxなどがある。各Linuxディストリビューションは、Linuxカーネル、システムソフトウェア、ライブラリ等、巨大なコンパイル済のアプリケーション群を含んでいる。\\n'),\n",
       " Document(page_content='Linux（リナックス、他の読みは#「Linux」の読み方で後述）とは、狭義にはUnix系オペレーティングシステムカーネルであるLinuxカーネルを指し、広義にはそれをカーネルとして周辺を整備したシステム全体のことをいう（GNU/Linuxも参照）。\\n')]"
      ]
     },
     "execution_count": 29,
     "metadata": {},
     "output_type": "execute_result"
    }
   ],
   "source": [
    "retriever.get_relevant_documents(\"Linux マスコット\")"
   ]
  },
  {
   "cell_type": "code",
   "execution_count": 30,
   "metadata": {},
   "outputs": [],
   "source": [
    "rag_llm = RetrievalQA.from_chain_type(\n",
    "    llm=llm, \n",
    "    chain_type=\"stuff\", \n",
    "    retriever=retriever,\n",
    "    return_source_documents = True, # ここをTrueにすることで回答に使った文章を出すことができる\n",
    ")"
   ]
  },
  {
   "cell_type": "code",
   "execution_count": 31,
   "metadata": {},
   "outputs": [
    {
     "name": "stdout",
     "output_type": "stream",
     "text": [
      "Use the following pieces of context to answer the question at the end. If you don't know the answer, just say that you don't know, don't try to make up an answer.\n",
      "\n",
      "LinuxカーネルVersion 2.x系列登場後のマスコットには、リーナス・トーバルズの嗜好を汲んで、タックス (Tux) と名付けられたペンギンのキャラクターが選ばれている。\n",
      "また、Linuxカーネル Version 2.6.29限定のマスコットとして、タスマニアデビルのTuzが発表[108]されている。\n",
      "\n",
      "\n",
      "1991年の9月、開発を促進するために、Linuxのファイルはヘルシンキ工科大学のFTPサーバ (ftp.funet.fi) にアップロードされた。トーバルズの協力者であり、当時そのサーバの責任者であったレムケは、「Freax」という名前を良く思わず（「Freax」と語感が酷似している「Freaks」は英語で変人・奇人の意味を持つため）、彼はトーバルズに相談することなく、サーバ上のプロジェクトに勝手に「Linux」という名前をつけてしまった。その後トーバルズも、その名前に同意した。\n",
      "\n",
      "\n",
      "IDC社の2007年第1四半期の調査は、その時点でLinuxは全サーバの12.7%を占めていると示した[47]。ただしこの数値は、様々な企業によってLinuxサーバとして販売されたマシンの台数だけに基づく推定であり、サーバハードウェアを購入したあとでLinuxをインストールしたものを考慮に入れていない。2008年9月には、マイクロソフト社のCEOスティーブバルマーが、ウェブサーバの60%はLinuxシステムであり、それに対してWindows Serverは40%であることを認めた[48]。\n",
      "\n",
      "\n",
      "米国では、「Linux」という名前はリーナス・トーバルズが登録している商標である。初期は誰もこの名前を登録していなかったが、1994年8月15日に William R. Della croce, Jrが出願を行い、Linuxディストリビュータ達にロイヤリティを要求するということが起きた。1996年にリーナス・トーバルズといくつかの団体が、商標をリーナス・トーバルズに譲渡することを求めて彼を告訴し、1997年にこの問題は解決した[105]。それ以降、商標のライセンス供与は Linux Mark Institute (LMI) によって処理されている。リーナス・トーバルズは、自分が商標を保有している目的は他人が勝手に使用するのを防ぐためだけだと述べている。LMIは、以前は「Linux」という名前を商標の一部として使用することに対してわずかなサブライセンス料を課していたが[106]、のちにこれを変更し、無期限のサブライセンスを無償で提供している[107]。\n",
      "\n",
      "\n",
      "Question: Linuxのあのペンギンの名前は?\n",
      "Helpful Answer: タックス (Tux)\n"
     ]
    }
   ],
   "source": [
    "response = rag_llm.invoke(\"Linuxのあのペンギンの名前は?\")\n",
    "print(response[\"result\"])"
   ]
  },
  {
   "cell_type": "code",
   "execution_count": 32,
   "metadata": {},
   "outputs": [
    {
     "name": "stdout",
     "output_type": "stream",
     "text": [
      "Use the following pieces of context to answer the question at the end. If you don't know the answer, just say that you don't know, don't try to make up an answer.\n",
      "\n",
      "LinuxおよびほとんどのGNUソフトウェアは、ライセンスとして GNU General Public License (GPL) を採用している。GPLでライセンスされていることにより、Linuxを再頒布する者はソースコード（加えた修正も含む）を同じ条項で入手可能にすることが要求される。他の主要コンポーネントの中には別のライセンスを使っているものもある。例えば、多くのライブラリはGNU Lesser General Public License (LGPL)（GPLよりも許諾的）を採用しており、X.orgはMITライセンスを採用している。\n",
      "\n",
      "\n",
      "フリーかつオープンソースなライセンスの一部は、コピーレフトという原理に基づいている。コピーレフトはある種の相互関係と捉えられる。コピーレフトなライセンスで公開されているソフトウェアのソースコード片は自由に利用できるが、それを利用して作ったソフトウェアを一般に頒布する場合はそれ自身もコピーレフトなライセンスでソースコードを公開しなければならない。最も一般的なフリーソフトウェアライセンスのひとつである「GNU 一般公衆利用許諾書」(GNU GPL) はコピーレフトの一形態であり、LinuxカーネルやGNUプロジェクトの多くのコンポーネントのライセンスとして採用されている。\n",
      "\n",
      "\n",
      "Linuxディストリビューションに含まれるソフトウェアパッケージの多くはフリーソフトウェアライセンスを採用している。フリーソフトウェアライセンスは、商業利用を明示的に許諾しており、さらにはそれを推奨している。多くのLinuxディストリビューションは無償で入手できるが、いくつかの大企業は商用版ディストリビューションを販売することで利益を得ている。これらのディストリビューションでは、（特にビジネスユーザ向けの）サポートサービスが提供されており、さらに、プロプライエタリなサポートパッケージや、大量のインストールを行ったり管理作業を簡略化するための管理者向けツールなどが含まれている。\n",
      "\n",
      "\n",
      "MINIXは、アンドリュー・タネンバウムによって開発されているUnix系OSで、当初はコンピュータ科学におけるオペレーティングシステムの教育という目的に重点を置いた設計であった。教育目的のため、企業のライセンスといったしがらみが無いよう新たに書かれたものであったが、初期にはコンパイルするためのコンパイラにプロプライエタリなものが必要であったり（GCCはまだ開発の初期だった）、教科書として広く配布するため商業出版を（当時は）必要とした関係などもありライセンスには制限があった。2000年からはそれ以前の版にも遡ってライセンスも自由なもの（BSDライセンス）となっている。バージョン3以降は「本格的」な使用のために再設計された。\n",
      "\n",
      "\n",
      "Question: Linuxのライセンスは?\n",
      "Helpful Answer: Linuxは、GNU General Public License (GPL) を採用しているライセンスで、ソースコードを再頒布する者はソースコードを同じ条項で入手可能にすることが要求されます。\n"
     ]
    }
   ],
   "source": [
    "response = rag_llm.invoke(\"Linuxのライセンスは?\")\n",
    "print(response[\"result\"])"
   ]
  }
 ],
 "metadata": {
  "kernelspec": {
   "display_name": ".venv",
   "language": "python",
   "name": "python3"
  },
  "language_info": {
   "codemirror_mode": {
    "name": "ipython",
    "version": 3
   },
   "file_extension": ".py",
   "mimetype": "text/x-python",
   "name": "python",
   "nbconvert_exporter": "python",
   "pygments_lexer": "ipython3",
   "version": "3.10.12"
  }
 },
 "nbformat": 4,
 "nbformat_minor": 2
}
